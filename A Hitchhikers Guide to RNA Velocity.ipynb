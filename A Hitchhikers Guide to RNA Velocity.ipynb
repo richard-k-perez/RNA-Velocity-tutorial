{
 "cells": [
  {
   "cell_type": "markdown",
   "metadata": {},
   "source": [
    "# A Hitchhiker's Guide to RNA Velocity"
   ]
  },
  {
   "cell_type": "markdown",
   "metadata": {},
   "source": [
    "This guide servers as a \"how to\" for using RNA velocity and associated python packages.\n",
    "\n",
    "Created by Richard Perez\n",
    "\n",
    "Package Requirements:\n",
    "\n",
    "Anaconda package - To handles package dependencies.\n",
    "\n",
    "Velocyto package - Preliminary processing of single-cell RNA sequencing data (scRNAseq).\n",
    "\n",
    "Scvelo package   - Really excellent interface for post-processing of scRNAseq data.\n",
    "\n",
    "Loompy package   - To handle and manage loom files.\n",
    "\n",
    "Scanpy package   - My go to scRNAseq package for python and works well with velopy.\n"
   ]
  },
  {
   "cell_type": "markdown",
   "metadata": {},
   "source": [
    "## Preprocessing: from .bam to .loom"
   ]
  },
  {
   "cell_type": "markdown",
   "metadata": {},
   "source": [
    "At this point you need to have your scRNAseq data processed to the point where it is in a .bam file format. \n",
    "\n",
    "For this tutorial, I will be using a reference .h5ad object which has already been filtered for doublets by two independent methods (Demuxlet and Doublet Detection). Additionally, this object contains pertinent covariates I would like to transfer into my RNA velocity .h5ad object in the end."
   ]
  },
  {
   "cell_type": "markdown",
   "metadata": {},
   "source": [
    "### Step 1: Determine which barcodes you want to process"
   ]
  },
  {
   "cell_type": "markdown",
   "metadata": {},
   "source": [
    "I am using barcodes of the cells from my reference .h5ad object. They should be .tsv format. This script opens the object and collects pertinent barcodes based on batch."
   ]
  },
  {
   "cell_type": "code",
   "execution_count": null,
   "metadata": {},
   "outputs": [],
   "source": [
    "import pandas as pd\n",
    "import logging\n",
    "import numpy as np\n",
    "import scanpy.api as sc\n",
    "\n",
    "# Configure logging\n",
    "logging.basicConfig(level=logging.INFO)\n",
    "\n",
    "# Where is the batch specific covariate .csv?\n",
    "filepath = 'SLEcrossX_processed.h5ad'\n",
    "adata = sc.read(filepath)\n",
    "adata.obs['well'] = adata.obs['well'].astype('object')\n",
    "logging.info(str('data ' + str(adata)))\n",
    "master_batch_list = np.unique(adata.obs['well'].tolist())\n",
    "logging.info(str('well ' + str(adata.obs['well'])))\n",
    "logging.info(str('all unique wells ' + str(master_batch_list)))\n",
    "\n",
    "def getbarcodes(adata, batch):\n",
    "    barcodes = adata[adata.obs['well'].isin([batch])].obs['well'].index.tolist()\n",
    "    logging.info(str('Barcodes found for batch ' + batch))\n",
    "    logging.info(str('Number of Cells ' + str(len(barcodes))))\n",
    "    savepath = str('/tsv/' + batch + '.tsv')\n",
    "    with open(savepath, 'w') as file:\n",
    "        for code in barcodes:\n",
    "            file.write(\"%s \\n\" % code)\n",
    "\n",
    "for batch in master_batch_list:\n",
    "    getbarcodes(adata, batch)\n"
   ]
  },
  {
   "cell_type": "markdown",
   "metadata": {},
   "source": [
    "### Step 2: Run Velocyto"
   ]
  },
  {
   "cell_type": "markdown",
   "metadata": {},
   "source": [
    "You will need to submit this as a job and it will likely take a few hours.\n",
    "\n",
    "-b path to barcodes we just collected.\n",
    "\n",
    "-m mask reccomended when preprocessing (see velocyto documentation).\n",
    "\n",
    "-o name output directory\n",
    "\n",
    "-e name of output file (.loom)\n"
   ]
  },
  {
   "cell_type": "code",
   "execution_count": null,
   "metadata": {},
   "outputs": [],
   "source": [
    "velocyto run -b '/tsv/YE_8-16-1.tsv' -m '/hg19_rmsk.gtf' -o '/loom' -e 'YE-8-16-1' '/YE_8-16-1/outs/possorted_genome_bam.bam' '/10x.ref/refdata-cellranger-hg19-1.2.0/genes/genes.gtf'"
   ]
  },
  {
   "cell_type": "markdown",
   "metadata": {},
   "source": [
    "### Step 3: Combine all loom files"
   ]
  },
  {
   "cell_type": "markdown",
   "metadata": {},
   "source": [
    "For our dataset, it was composed about about a dozen different batches and each needed to be processed separately. We now need to combine all of them."
   ]
  },
  {
   "cell_type": "code",
   "execution_count": null,
   "metadata": {},
   "outputs": [],
   "source": [
    "import loompy\n",
    "import os\n",
    "import logging\n",
    "\n",
    "# Configure logging\n",
    "logging.basicConfig(level=logging.INFO)\n",
    "# Initialize files list\n",
    "files = []\n",
    "# Get current working directory\n",
    "cwd = os.getcwd()\n",
    "# Name output file automatically\n",
    "output_filename = str('crossx.loom')\n",
    "# Scan files in working directory for files ending with .loom and append them to the files list.\n",
    "for file in os.listdir(cwd):\n",
    "    logging.info(str(file))\n",
    "    if file.endswith(\".loom\"):\n",
    "        if os.path.join(cwd, file) != output_filename:\n",
    "            files.append(os.path.join(cwd, file))\n",
    "\n",
    "\n",
    "logging.info(str(files))\n",
    "# Combine loom files\n",
    "loompy.combine(files, output_filename, key=\"Accession\")"
   ]
  },
  {
   "cell_type": "markdown",
   "metadata": {},
   "source": [
    "### Step 4: Transfer covariates from reference .h5ad"
   ]
  },
  {
   "cell_type": "markdown",
   "metadata": {},
   "source": [
    "Barcodes in crossx.loom will look like \"batch:ATGATGATGATGATGAx\". The original barcode was \"ATGATGATGATGATGA-4-000001\". Notice how the preprocessing trimmed the barcode? This is not good so we need to ensure that the covariates we are transfering over are associated with the correct barcode. This is an inefficient script but it works."
   ]
  },
  {
   "cell_type": "code",
   "execution_count": null,
   "metadata": {},
   "outputs": [],
   "source": [
    "import numpy as np\n",
    "import scanpy.api as sc\n",
    "import logging\n",
    "import scvelo as scv\n",
    "import pandas as pd\n",
    "\n",
    "##################\n",
    "# Configure file #\n",
    "##################\n",
    "sc.settings.verbosity = 2\n",
    "sc.settings.autoshow = False\n",
    "logging.basicConfig(level=logging.INFO)\n",
    "\n",
    "adata = scv.read(loompath, cache=True)\n",
    "logging.info(str('loom data structure details: ' + str(adata)))\n",
    "rnavelobarcodes = adata.obs_names.tolist()\n",
    "batch = []\n",
    "BARCODES = []\n",
    "for barcode in rnavelobarcodes:\n",
    "    tmp = barcode.split(':')[0]\n",
    "    # This one batch does not follow the conventions of the others.\n",
    "    if tmp[:5] != 'YE110':\n",
    "        # loom file names are a little different than the batch names.\n",
    "        tmp = tmp.replace('-', '_', 1)\n",
    "    batch.append(tmp)\n",
    "    newbarcode = barcode.split(':')[1]\n",
    "    newbarcode = newbarcode[:-1]\n",
    "    BARCODES.append(newbarcode)\n",
    "adata.obs['barcodes'] = BARCODES\n",
    "adata.obs['batchcore'] = batch\n",
    "logging.info(str('Updated data structure details: ' + str(adata)))\n",
    "\n",
    "refadata = sc.read(refh5adpath, cache=True)\n",
    "logging.info(str('Reference data structure details: ' + str(refadata)))\n",
    "\n",
    "# Covariates I care about.\n",
    "DZ = []\n",
    "IND = []\n",
    "WELL = []\n",
    "CT = []\n",
    "LOUVAIN = []\n",
    "for ii in range(len(BARCODES)):\n",
    "    refbarcodes = refadata.obs['well'][refadata.obs['well']==batch[ii]].index.tolist()\n",
    "\n",
    "    for jj in range(len(refbarcodes)):\n",
    "        refbarcodes[jj] = refbarcodes[jj].split('-')[0]\n",
    "\n",
    "    dz = refadata.obs['disease_cov'][refadata.obs['well']==batch[ii]].values.tolist()\n",
    "    ind = refadata.obs['ind_cov'][refadata.obs['well']==batch[ii]].values.tolist()\n",
    "    well = refadata.obs['well'][refadata.obs['well']==batch[ii]].values.tolist()\n",
    "    ct = refadata.obs['ct_cov'][refadata.obs['well']==batch[ii]].values.tolist()\n",
    "    louvain = refadata.obs['louvain'][refadata.obs['well']==batch[ii]].values.tolist()\n",
    "\n",
    "    DZ.append(dz[refbarcodes.index(BARCODES[ii])])\n",
    "    IND.append(ind[refbarcodes.index(BARCODES[ii])])\n",
    "    WELL.append(well[refbarcodes.index(BARCODES[ii])])\n",
    "    CT.append(ct[refbarcodes.index(BARCODES[ii])])\n",
    "    LOUVAIN.append(louvain[refbarcodes.index(BARCODES[ii])])\n",
    "\n",
    "adata.obs['disease_cov'] = DZ\n",
    "adata.obs['ind_cov'] = IND\n",
    "adata.obs['ct_cov'] = CT\n",
    "adata.obs['well'] = WELL\n",
    "adata.obs['louvain'] = LOUVAIN\n",
    "logging.info(str('Updated data structure details: ' + str(adata)))\n",
    "logging.info(str('Saving...'))\n",
    "adata.write(savepath)"
   ]
  },
  {
   "cell_type": "markdown",
   "metadata": {},
   "source": [
    "### Step 5: Process data"
   ]
  },
  {
   "cell_type": "markdown",
   "metadata": {},
   "source": [
    "Now that our data is in a h5ad object format, we can process it with scanpy. Below are basic codes to do that. \n",
    "\n",
    "Note: I already filtered out doublets and that script is not shown below. Also note that since I am pulling barcodes from a reference h5ad object which was previously processed, I did not remove additional cells when processing the new h5ad object. However that code will be included below. I also did not run cell identity or louvain clustering again for our new h5ad object. I pulled those as covariates from the reference and they serve as a sanity check for barcode matching."
   ]
  },
  {
   "cell_type": "markdown",
   "metadata": {},
   "source": [
    "#### Step 5a:"
   ]
  },
  {
   "cell_type": "code",
   "execution_count": null,
   "metadata": {},
   "outputs": [],
   "source": [
    "import numpy as np\n",
    "import scanpy.api as sc\n",
    "import logging\n",
    "\n",
    "##################\n",
    "# Configure file #\n",
    "##################\n",
    "sc.settings.verbosity = 2\n",
    "sc.settings.autoshow = False\n",
    "logging.basicConfig(level=logging.INFO)\n",
    "\n",
    "####################\n",
    "# Basic processing #\n",
    "####################\n",
    "adata = sc.read(filepath)\n",
    "adata.obs['batchcore'] = adata.obs['batchcore'].astype('category')\n",
    "adata.var_names_make_unique()\n",
    "logging.info(str('Data structure details: ' + str(adata)))\n",
    "# Extract list of genes\n",
    "genelist = adata.var_names.tolist()\n",
    "# Find mitochondrial genes\n",
    "mito_genes_names = [gn for gn in genelist if gn.startswith('MT-')]\n",
    "logging.info(str('Mito genes: ' + str(mito_genes_names)))\n",
    "# Find indices of mitochondrial genes\n",
    "mito_genes = [genelist.index(gn) for gn in mito_genes_names]\n",
    "# For each cell compute fraction of counts in mito genes vs. all genes\n",
    "adata.obs['percent_mito'] = np.ravel(np.sum(adata[:, mito_genes].X, axis=1)) / np.ravel(np.sum(adata.X, axis=1))\n",
    "# Add the total counts per cell as observations-annotation to adata\n",
    "adata.obs['n_counts'] = np.ravel(adata.X.sum(axis=1))\n",
    "logging.info('Filtering cells')\n",
    "# Filter cells that have more than 2500 genes or more than 10% of counts coming from mitochondrial genes.\n",
    "# These are likely outliers.\n",
    "adata = adata[adata.obs['percent_mito'] < 0.10]\n",
    "logging.info(str('Data structure details: ' + str(adata)))\n",
    "# Filter cells with abnormally low gene counts, high gene counts.\n",
    "sc.pp.filter_cells(adata, min_genes=100)\n",
    "logging.info(str('Data structure details: ' + str(adata)))\n",
    "sc.pp.filter_cells(adata, max_genes=2500)\n",
    "logging.info(str('Data structure details: ' + str(adata)))\n",
    "logging.info('Saving raw and raw counts')\n",
    "adata.uns['raw_counts'] = adata.X\n",
    "adata.raw = sc.pp.log1p(adata, copy=True)\n",
    "logging.info('Normalizing total counts to 10,000')\n",
    "sc.pp.normalize_per_cell(adata, counts_per_cell_after=1e4)\n",
    "logging.info('Filtering genes')\n",
    "filter_result = sc.pp.filter_genes_dispersion(adata.X, log=True)\n",
    "adata = adata[:, filter_result.gene_subset]\n",
    "logging.info('Log transforming data')\n",
    "sc.pp.log1p(adata)\n",
    "logging.info(str('Data structure details: ' + str(adata)))\n",
    "logging.info('Regressing out variance within total nUMIs and % mitochondrial UMIs')\n",
    "sc.pp.regress_out(adata, ['n_counts', 'percent_mito'])\n",
    "logging.info('Batch correcting by regressing out batch variance')\n",
    "sc.pp.regress_out(adata, ['batchcore'])\n",
    "logging.info('Scaling expression data')\n",
    "sc.pp.scale(adata, max_value=10)\n",
    "logging.info(str('Data structure details: ' + str(adata)))\n",
    "# Unique list of individuals\n",
    "people = np.unique(adata.obs['ind_cov'].values.tolist())\n",
    "# Allocate space for total PMBCs per individual.\n",
    "total_pbmcs = dict.fromkeys(people)\n",
    "for p in people:\n",
    "    total_pbmcs[p] = len(adata.obs_names[adata.obs['ind_cov'] == p])\n",
    "adata.uns['total_pbmcs'] = total_pbmcs\n",
    "logging.info('Saving processed data')\n",
    "adata.write(savepath)\n",
    "logging.info('Basic processing complete.')"
   ]
  },
  {
   "cell_type": "markdown",
   "metadata": {},
   "source": [
    "#### Step 5b:"
   ]
  },
  {
   "cell_type": "code",
   "execution_count": null,
   "metadata": {},
   "outputs": [],
   "source": [
    "import scanpy.api as sc\n",
    "import logging\n",
    "\n",
    "##################\n",
    "# Configure file #\n",
    "##################\n",
    "sc.settings.verbosity = 2\n",
    "sc.settings.autoshow = False\n",
    "logging.basicConfig(level=logging.INFO)\n",
    "adata = sc.read(filepath)\n",
    "\n",
    "#######################\n",
    "# Louvain and friends #\n",
    "#######################\n",
    "# Set parameters\n",
    "intialization = 1\n",
    "n_components = 20\n",
    "resolution = 1\n",
    "# Run louvain clustering on theoretical future gene expression per cell\n",
    "logging.info('Estimating louvain cluster identities for gene expression values.')\n",
    "sc.pp.pca(adata, random_state=intialization)\n",
    "logging.info('PCA complete.')\n",
    "sc.pp.neighbors(adata)\n",
    "logging.info('KNN complete.')\n",
    "sc.tl.diffmap(adata)\n",
    "logging.info('diffmap complete.')\n",
    "sc.tl.louvain(adata, random_state=intialization, resolution=resolution)\n",
    "logging.info('Louvain complete.')\n",
    "sc.tl.paga(adata)\n",
    "sc.pl.paga(adata, random_state=intialization, show=False)\n",
    "logging.info('paga complete.')\n",
    "sc.tl.umap(adata, random_state=intialization, init_pos='paga')\n",
    "logging.info('UMAP complete.')\n",
    "sc.tl.tsne(adata, n_pcs=10)\n",
    "logging.info('TSNE complete.')\n",
    "# First PC for ordering of cells in the umap\n",
    "adata.obs['ordering_UMAP'] = sc.pp.pca(adata.obsm['X_umap'], n_comps=1, copy=True)\n",
    "adata.write(filepath)\n",
    "logging.info('Basic analysis complete.')"
   ]
  },
  {
   "cell_type": "markdown",
   "metadata": {},
   "source": [
    "#### Step 5c"
   ]
  },
  {
   "cell_type": "code",
   "execution_count": null,
   "metadata": {},
   "outputs": [],
   "source": [
    "import numpy as np\n",
    "import scanpy.api as sc\n",
    "import logging\n",
    "\n",
    "##################\n",
    "# Configure file #\n",
    "##################\n",
    "sc.settings.verbosity = 2\n",
    "sc.settings.autoshow = False\n",
    "logging.basicConfig(level=logging.INFO)\n",
    "adata = sc.read(filepath)\n",
    "\n",
    "annotation = {'CD8+ T': ['CD8A', 'CD8B', 'CD3D'], 'CD4+ T': ['CD3D', 'ANK3', 'IL7R'],\n",
    "              'CD14 Mono': ['CD14', 'LYZ', 'CCL2', 'S100A9'], 'CD16 Mono': ['FCGR3A', 'MS4A7', 'VMO1'],\n",
    "              'B': ['CD19', 'MS4A1', 'CD79A'], 'NK': ['KLRF1', 'GNLY', 'NKG7'],\n",
    "              'cDC': ['HLA.DQA1', 'FCER1A', 'GPR183'], 'pDC': ['CLEC4C', 'TSPAN13', 'IGJ'],\n",
    "              'MK': ['PPBP', 'GNG11']}\n",
    "\n",
    "######################\n",
    "# Identify cell type #\n",
    "######################\n",
    "# Differentially expressed genes\n",
    "Genes = []\n",
    "for ct in annotation.keys():\n",
    "    Genes.append(annotation[ct])\n",
    "Genes = [item for sublist in Genes for item in sublist]\n",
    "# Determine cell types\n",
    "ct_cov = np.asarray(adata.obs['disease_cov'].values.tolist())\n",
    "for ii in np.unique(adata.obs['louvain'].tolist()):\n",
    "    currntsum = -1\n",
    "    for ct in annotation.keys():\n",
    "        ctsum = []\n",
    "        for Gn in Genes:\n",
    "            if Gn in annotation[ct]:\n",
    "                ctsum.append(np.nanmean(adata.X[:, adata.var_names.isin([Gn])][adata.obs['louvain'] == ii]))\n",
    "            else:\n",
    "                ctsum.append(\n",
    "                    np.nanmean(adata.X[:, adata.var_names.isin([Gn])][adata.obs['louvain'] == ii]) * -1)\n",
    "        ctsum = np.nanmean(np.asarray(ctsum))\n",
    "        # Assign cell type\n",
    "        if ctsum > currntsum:\n",
    "            ct_cov[adata.obs['louvain'] == ii] = ct\n",
    "            currntsum = ctsum\n",
    "        else:\n",
    "            continue\n",
    "adata.obs['ct_cov'] = ct_cov\n",
    "adata.obs['ct_cov'] = adata.obs['ct_cov'].astype('category')\n",
    "adata.write(filepath)"
   ]
  },
  {
   "cell_type": "markdown",
   "metadata": {},
   "source": [
    "## Step 6: Run RNA Velocity"
   ]
  },
  {
   "cell_type": "code",
   "execution_count": null,
   "metadata": {},
   "outputs": [],
   "source": [
    "import numpy as np\n",
    "import scanpy.api as sc\n",
    "import logging\n",
    "import pandas as pd\n",
    "\n",
    "####################\n",
    "#  Configure file  #\n",
    "####################\n",
    "# Configure logging\n",
    "logging.basicConfig(level=logging.INFO)\n",
    "# Configure scanpy settings\n",
    "sc.settings.verbosity = 2\n",
    "sc.settings.autoshow = False\n",
    "sc.settings.set_figure_params(dpi_save=1000, format='png')\n",
    "\n",
    "filepath = 'crossx_rnavelo_processed.h5ad'\n",
    "adata = scv.read(filepath, cache=True)\n",
    "# Only run for Monocytes\n",
    "adata = adata[adata.obs['ct_cov'].isin(['CD14 Mono', 'CD16 Mono'])]\n",
    "logging.info(str('data structure details: ' + str(adata)))\n",
    "sc.pp.neighbors(adata)\n",
    "sc.tl.umap(adata)\n",
    "sc.tl.louvain(adata, resolution=1, random_state=1)\n",
    "sns.set(font_scale=1.25)\n",
    "sc.settings.set_figure_params(dpi_save=1000, format='png', transparent=True)\n",
    "color_map = [\n",
    "    '#1f77b4', '#ff7f0e', '#2ca02c', '#d62728',\n",
    "    '#9467bd', '#8c564b', '#e377c2',\n",
    "    '#bcbd22', '#17becf',\n",
    "    '#aec7e8', '#ffbb78', '#98df8a', '#ff9896',\n",
    "    '#c5b0d5', '#c49c94', '#f7b6d2',\n",
    "    '#dbdb8d', '#9edae5',\n",
    "    '#ad494a', '#8c6d31']\n",
    "\n",
    "sc.pl.umap(adata, color='louvain', show=False, save='louvain.png')\n",
    "sc.pl.umap(adata, color='disease_cov', show=False, save='disease.png')\n",
    "sc.pl.umap(adata, color='well', show=False, save='well.png')\n",
    "sc.pl.umap(adata, color='batchcore', show=False, save='batch.png')\n",
    "sc.pl.umap(adata, color='ct_cov', show=False, save='ct_cov.png')\n",
    "sc.pl.umap(adata, color=['IFI27'], show=False, save='IFI27.png')\n",
    "\n",
    "def run_rnavelo(adata, dz_typ):\n",
    "    adata = adata[adata.obs['disease_cov']==dz_typ]\n",
    "    # I subsample SLE for compute time purposes.\n",
    "    if dz_typ == 'sle':\n",
    "        sc.pp.subsample(adata, fraction=0.25)\n",
    "    logging.info(str('Data structure details: ' + str(adata)))\n",
    "    scv.pp.show_proportions(adata)\n",
    "    scv.pp.moments(adata)\n",
    "    logging.info(str('Data structure details: ' + str(adata)))\n",
    "    scv.tl.velocity(adata)\n",
    "    scv.tl.velocity_graph(adata, n_recurse_neighbors=2)\n",
    "    scv.tl.velocity_embedding(adata, basis='umap')\n",
    "    scv.tl.terminal_states(adata)\n",
    "    scv.pl.velocity_embedding_grid(adata, basis='umap', show=False, save=str([str(dz_typ)+'_rnavelocity_grid.png']), dpi=1000, frameon=False)\n",
    "    scv.pl.velocity_embedding(adata, basis='umap', show=False, save=str([str(dz_typ)+'_rnavelocity.png']), dpi=1000, frameon=False)\n",
    "    scv.pl.scatter(adata, basis='umap', color=['root', 'end'], perc=[2,98], show=False, save=str([str(dz_typ)+'_markov.png']), dpi=1000)\n",
    "\n",
    "run_rnavelo(adata, 'sle')\n",
    "run_rnavelo(adata, 'healthy')\n"
   ]
  },
  {
   "cell_type": "markdown",
   "metadata": {},
   "source": [
    "## Tutorial complete!"
   ]
  }
 ],
 "metadata": {
  "kernelspec": {
   "display_name": "Python 3",
   "language": "python",
   "name": "python3"
  },
  "language_info": {
   "codemirror_mode": {
    "name": "ipython",
    "version": 3
   },
   "file_extension": ".py",
   "mimetype": "text/x-python",
   "name": "python",
   "nbconvert_exporter": "python",
   "pygments_lexer": "ipython3",
   "version": "3.6.4"
  }
 },
 "nbformat": 4,
 "nbformat_minor": 2
}
